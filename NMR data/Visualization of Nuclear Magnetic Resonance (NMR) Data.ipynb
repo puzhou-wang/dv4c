{
 "cells": [
  {
   "cell_type": "markdown",
   "metadata": {},
   "source": [
    "# Visualization of Nuclear Magnetic Resonance (NMR) Data"
   ]
  },
  {
   "cell_type": "markdown",
   "metadata": {},
   "source": [
    "# What is NMR?"
   ]
  },
  {
   "cell_type": "markdown",
   "metadata": {},
   "source": [
    "NMR, abbreviated for Nuclear Magnetic Resonance, is a powerful non-destructive analytical technique used to study the structure and behavior of molecules via the magnetic properties of atomic nuclei. Without diving into details (which are also beyond my knowledge😂), here is a short and over-simplified version of how NMR works:\n",
    "- **Magnetic Field and Nuclear Alignment**: A sample is placed in a strong magnetic field, causing certain atomic nuclei (like  $^1H$  or  $^13C$ ) to align their spins with or against the field. These aligned nuclei have distinct energy states.\n",
    "- **Radiofrequency Excitation and Resonance**: Radiofrequency waves are applied, providing energy that matches the difference between the spin states. This causes the nuclei to absorb energy and resonate, flipping their spins.\n",
    "- **Signal Detection**: As the nuclei relax back to their lower-energy states, they emit energy as an oscillating signal called **free induction decay** (**FID**). This signal reflects the unique magnetic environments of the nuclei in the sample."
   ]
  },
  {
   "cell_type": "markdown",
   "metadata": {},
   "source": [
    "## NMR data"
   ]
  },
  {
   "cell_type": "markdown",
   "metadata": {},
   "source": [
    "### The Raw NMR Data"
   ]
  },
  {
   "cell_type": "markdown",
   "metadata": {},
   "source": [
    "The raw NMR data is the oscillating FID signal, which are time-series data. If we depict the FID signal without any transformation, we will get a plot like the one below.\n",
    "![raw NMR data](NMR%20FID%20data.png)"
   ]
  },
  {
   "cell_type": "markdown",
   "metadata": {},
   "source": [
    "When we zoom into the first 300 data points in this example FID signal, its oscillating pattern becomes a lot more obvious. However, most likely, scientists can not derive useful information from FID directly. What they need is the magic of [Fourier transformation](https://en.wikipedia.org/wiki/Fourier_transform).\n",
    "![raw NMR data zoom-in](NMR%20FID%20data%20zoom-in.png)"
   ]
  },
  {
   "cell_type": "markdown",
   "metadata": {},
   "source": [
    "### Fourier Transformed NMR Data"
   ]
  },
  {
   "cell_type": "markdown",
   "metadata": {},
   "source": [
    "Fourier transformation is used to convert the FID signal above into its frequency domain. Moreover, the frequency scale (Hz) is then converted to chemical shift (ppm) based on a reference such as TMS (tetramethylsilane) or chloroform (as shown below). Experienced scientists probably will also notice the asymmetry of peaks in the following plot, which was due to my poor shimming😅.\n",
    "![Fourier Transformed NMR data](NMR%20FT%20static.png)"
   ]
  },
  {
   "cell_type": "markdown",
   "metadata": {},
   "source": [
    "## Coupling Constant (*J* value)"
   ]
  },
  {
   "cell_type": "markdown",
   "metadata": {},
   "source": [
    "One of the common used derivatives from NMR data is coupling constant (*J* value). Coupling constant in NMR represents the interaction between neighboring nuclei, typically measured in Hertz (Hz). It provides important information about the proximity and bonding environment of atoms within a molecule, helping to determine structural features such as the number and arrangement of adjacent atoms.\n",
    "\n",
    "For doublet peaks, calculating the *J* value is straightforward: it’s simply the difference in chemical shifts between the two peaks, multiplied by the frequency of the NMR spectrometer. However, when it comes to more complex splitting patterns, the calculation naturally becomes more intricate.\n",
    "\n",
    "Here’s where the power of interactivity comes in! The ability to easily zoom in and out on specific regions of an NMR spectrum simplifies *J* value calculations significantly. That’s why we turn to Plotly for generating interactive NMR plots—it makes exploring and analyzing these spectra a breeze.\n",
    "\n",
    "For example, can you identify the coupling constants for the various peaks in the plot below?👇"
   ]
  },
  {
   "cell_type": "code",
   "execution_count": 1,
   "metadata": {},
   "outputs": [
    {
     "data": {
      "text/html": [
       "\n",
       "        <iframe\n",
       "            width=\"800\"\n",
       "            height=\"600\"\n",
       "            src=\"NMR FT Plotly.html\"\n",
       "            frameborder=\"0\"\n",
       "            allowfullscreen\n",
       "            \n",
       "        ></iframe>\n",
       "        "
      ],
      "text/plain": [
       "<IPython.lib.display.IFrame at 0x7fe0388e27c0>"
      ]
     },
     "execution_count": 1,
     "metadata": {},
     "output_type": "execute_result"
    }
   ],
   "source": [
    "from IPython.display import IFrame\n",
    "\n",
    "\n",
    "IFrame(src=\"NMR FT Plotly.html\", width=\"800\", height=\"600\")"
   ]
  },
  {
   "cell_type": "markdown",
   "metadata": {},
   "source": [
    "# Summary"
   ]
  },
  {
   "cell_type": "markdown",
   "metadata": {},
   "source": [
    " I dove into one of the most impactful tools in a chemist’s toolkit: Nuclear Magnetic Resonance (NMR). We examined the transformation of NMR data through Fourier analysis, comparing its formats before and after this critical step, with an illustrative example to guide the discussion. I also showcased how interactive plotting using Plotly can revolutionize NMR data analysis. From calculating *J* values to deducing molecular structures, the dynamic and intuitive nature of these tools opens up new possibilities for chemists to extract deeper insights from their data."
   ]
  },
  {
   "cell_type": "markdown",
   "metadata": {},
   "source": [
    "If there is any particular type of characterization data you would like me to discuss and plot, feel free to find me at [my LinkedIn page](https://www.linkedin.com/in/puzhou-wang/)! See you next time!"
   ]
  }
 ],
 "metadata": {
  "kernelspec": {
   "display_name": "dv4c",
   "language": "python",
   "name": "dv4c"
  },
  "language_info": {
   "codemirror_mode": {
    "name": "ipython",
    "version": 3
   },
   "file_extension": ".py",
   "mimetype": "text/x-python",
   "name": "python",
   "nbconvert_exporter": "python",
   "pygments_lexer": "ipython3",
   "version": "3.9.19"
  }
 },
 "nbformat": 4,
 "nbformat_minor": 4
}
