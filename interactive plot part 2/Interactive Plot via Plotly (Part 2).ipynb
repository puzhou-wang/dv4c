{
 "cells": [
  {
   "cell_type": "markdown",
   "metadata": {},
   "source": [
    "# Interactive Plot via Plotly (Part 2)"
   ]
  },
  {
   "cell_type": "markdown",
   "metadata": {},
   "source": [
    "In my last article, I introduced [***Plotly***](https://plotly.com/) through an example of a 2D line plot and demonstrated some of its commonly used interactive features. If you haven’t had a chance to read it yet, you can check it out [here](https://nbviewer.org/github/puzhou-wang/dv4c/blob/main/interactive%20plot/Interactive%20Plot%20via%20Plotly%20%28Part%201%29.ipynb).\n",
    "\n",
    "In this article, I’ll expand the discussion to include 3D plots, which truly highlight the explorative capabilities of Plotly. However, as you’ll see later, working with Plotly 3D figures isn’t without its challenges."
   ]
  },
  {
   "cell_type": "markdown",
   "metadata": {},
   "source": [
    "## The Example Plot"
   ]
  },
  {
   "cell_type": "markdown",
   "metadata": {},
   "source": [
    "As usual, we’ll begin with a static 3D plot. The example below is a 3D co-plot of LC × MS data, which we previously explored in [Visualization of LCXMS Data](../LCXMS%20data/Visualization%20of%20LCXMS%20Data.ipynb). As noted in the original article, this figure contains an extensive amount of information. When a plot is densely packed with data, it’s the perfect opportunity for Plotly to shine.\n",
    "![3D coplot of LC X MS data](../LCXMS%20data/3D%20coplot.png)"
   ]
  },
  {
   "cell_type": "markdown",
   "metadata": {},
   "source": [
    "Below is a static screenshot of the Plotly version of the 3D co-plot shown earlier with an example hover information. Similar to Plotly 2D figures, hover information provides an excellent way to include additional data beyond what’s directly plotted. As in the previous article, I’ll also highlight some functions that I’ve found particularly useful when working with both Plotly 3D figures and Plotly figures in general.\n",
    "\n",
    "![3D coplot of LC X MS data](plotly%203D%20static.png)"
   ]
  },
  {
   "cell_type": "markdown",
   "metadata": {},
   "source": [
    "## Zoom"
   ]
  },
  {
   "cell_type": "markdown",
   "metadata": {},
   "source": [
    "When the zoom tool (the magnifier icon 🔍) is selected, you can zoom into the plot by clicking and dragging, as demonstrated below.\n",
    "\n",
    "![zoom by click and drag](zoom%20by%20click%20and%20drag.gif)"
   ]
  },
  {
   "cell_type": "markdown",
   "metadata": {},
   "source": [
    "Alternatively, if the rotatable view option is selected (more on this later), you can zoom in and out using the scroll wheel.\n",
    "\n",
    "![zoom by scroll](zoom%20by%20scroll.gif)"
   ]
  },
  {
   "cell_type": "markdown",
   "metadata": {},
   "source": [
    "## rotate"
   ]
  },
  {
   "cell_type": "markdown",
   "metadata": {},
   "source": [
    "When the rotatable view option is selected, the 3D plot can be freely rotated, allowing you to explore specific angles of interest with ease.\n",
    "\n",
    "![rotate](rotate.gif)"
   ]
  },
  {
   "cell_type": "markdown",
   "metadata": {},
   "source": [
    "And conveniently, if you want to reset the rotation and/or zoom, you can click on one of the reset buttons to start fresh again.\n",
    "\n",
    "![reset](reset.gif)"
   ]
  },
  {
   "cell_type": "markdown",
   "metadata": {},
   "source": [
    "## show and hide of a specific line"
   ]
  },
  {
   "cell_type": "markdown",
   "metadata": {},
   "source": [
    "Another trick I use a lot is to hide a specific line by click on the legend (yes, the legend is also part of the interactive plotting😉). You can also double-click on a legend to show just the data associated with a single legend.\n",
    "\n",
    "![hide and show](hide%20and%20show.gif)"
   ]
  },
  {
   "cell_type": "markdown",
   "metadata": {},
   "source": [
    "## Time for you to have some fun with the 3D interactive plot!🕹️"
   ]
  },
  {
   "cell_type": "code",
   "execution_count": 1,
   "metadata": {},
   "outputs": [
    {
     "data": {
      "text/html": [
       "\n",
       "        <iframe\n",
       "            width=\"800\"\n",
       "            height=\"600\"\n",
       "            src=\"LCXMS 3dplot.html\"\n",
       "            frameborder=\"0\"\n",
       "            allowfullscreen\n",
       "            \n",
       "        ></iframe>\n",
       "        "
      ],
      "text/plain": [
       "<IPython.lib.display.IFrame at 0x7fcdd0497850>"
      ]
     },
     "execution_count": 1,
     "metadata": {},
     "output_type": "execute_result"
    }
   ],
   "source": [
    "from IPython.display import IFrame\n",
    "\n",
    "\n",
    "IFrame(src=\"LCXMS 3dplot.html\", width=\"800\", height=\"600\")"
   ]
  },
  {
   "cell_type": "code",
   "execution_count": null,
   "metadata": {},
   "outputs": [],
   "source": []
  }
 ],
 "metadata": {
  "kernelspec": {
   "display_name": "dv4c",
   "language": "python",
   "name": "dv4c"
  },
  "language_info": {
   "codemirror_mode": {
    "name": "ipython",
    "version": 3
   },
   "file_extension": ".py",
   "mimetype": "text/x-python",
   "name": "python",
   "nbconvert_exporter": "python",
   "pygments_lexer": "ipython3",
   "version": "3.9.19"
  }
 },
 "nbformat": 4,
 "nbformat_minor": 4
}
