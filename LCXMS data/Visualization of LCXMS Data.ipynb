{
 "cells": [
  {
   "cell_type": "markdown",
   "metadata": {},
   "source": [
    "# Visualization of LC X MS Data"
   ]
  },
  {
   "cell_type": "markdown",
   "metadata": {},
   "source": [
    "## LC X MS"
   ]
  },
  {
   "cell_type": "markdown",
   "metadata": {},
   "source": [
    "LC X MS refers to the tandem usage of liquid chromatography (LC) and mass spectrometry (MS) in the identification and quantification of compounds, especially in mixture samples. LC X MS technqiue is powerful because it marries two orthogonal characterization dimensions, the affinity dimension from LC and the mass dimension from MS."
   ]
  },
  {
   "cell_type": "markdown",
   "metadata": {},
   "source": [
    "We have discussed the general formats for LC and MS data previously in [Visualization of MS Deconvoluted Data](../MS%20deconvoluted%20data/Visualization%20of%20MS%20Deconvoluted%20Data.ipynb) and [Visualization of LC Data](../LC%20data/Visualization%20of%20Chromatography%20Data.ipynb), respectively. In LC X MS applications, there is usually another column in the MS data to represent the retention time (also called elution time) of the sample examined in MS. If the specific application is more *in situ*, this extra column can be a timestamp, as shown in the example below. In this example data, the entire column of *time* contains the same value, 12.34, which suggests that this piece of data represents the MS scan generated at this specific timestamp during the LC analysis.\n",
    "\n",
    "| time     | mass     | count    |\n",
    "|----------|----------|----------|\n",
    "| 12.34    | 4000     | 10       |\n",
    "| 12.34    | 4001     | 15       |\n",
    "| 12.34    | 4002     | 23       |"
   ]
  },
  {
   "cell_type": "markdown",
   "metadata": {},
   "source": [
    "On the contrary, the LC X MS applications can be implemented in a more manual fashion, e.g., first collecting fraction samples from LC and then characterizing each sample in MS. In such applications, the extra column in the MS data can be the fraction number, as demonstrated below.\n",
    "\n",
    "| fraction number | mass     | count    |\n",
    "|-----------------|----------|----------|\n",
    "| 4               | 4000     | 10       |\n",
    "| 4               | 4001     | 15       |\n",
    "| 4               | 4002     | 23       |"
   ]
  },
  {
   "cell_type": "markdown",
   "metadata": {},
   "source": [
    "Each fraction will then have its own collection time window which can be presented as start and end times, as seen in the following table. This piece of metadata about fractions will then be used to stitch LC and MS data together.\n",
    "\n",
    "| fraction number | start    | end      |\n",
    "|-----------------|----------|----------|\n",
    "| 1               | 16.50    | 16.99    |\n",
    "| 2               | 17.00    | 17.49    |\n",
    "| 3               | 17.50    | 17.99    |"
   ]
  },
  {
   "cell_type": "markdown",
   "metadata": {},
   "source": [
    "## Separate Visualization of LC and MS Data"
   ]
  },
  {
   "cell_type": "markdown",
   "metadata": {},
   "source": [
    "In this article, we will use a simulated LC X MS dataset collected on a DNA sample in the more manual fashion. In total, fractions are collected from the LC part, each of which is further analyzed by MS. Obviously, the LC and MS data can be visualized separately. For example, we can visualize the LC data with the timestamps for both start and end times of fraction collection.\n",
    "\n",
    "![separate plot for LC data](LC%20plot.png)"
   ]
  },
  {
   "cell_type": "markdown",
   "metadata": {},
   "source": [
    "We can also visualize the MS data for all fractions in a stacked line plot, similar to the one discussed in [Visualization of MS Deconvoluted Data](../MS%20deconvoluted%20data/Visualization%20of%20MS%20Deconvoluted%20Data.ipynb). Here, the deconvoluted traces from MS data of all fractions are directly stacked on each other. We can probably start to draw simple conclusions such as full-length product (flp, i.e., the desired DNA product) is mostly contained in fractions #7-9. However, we cannot easily correlate this with the LC data shown above.\n",
    "\n",
    "![separate stacked line plot for MS data](MS%20stacked%20line%20plot.png)"
   ]
  },
  {
   "cell_type": "markdown",
   "metadata": {},
   "source": [
    "## Coplot of LC X MS Data"
   ]
  },
  {
   "cell_type": "markdown",
   "metadata": {},
   "source": [
    "To fully harness the power of LC X MS technique, we need to plot data from both dimensions together. This article will show two example methods to achieve such goal, **3D coplot** and **2D coplot**."
   ]
  },
  {
   "cell_type": "markdown",
   "metadata": {},
   "source": [
    "Shown below is the **3D coplot** of LC X MS data previously plotted separately. This is truly a single plot that summarizes all the information in this dataset. Comparing this 3D coplot with the stacked MS plot, it is now a lot easier to identify the elution of n-4 and n+2 species in the early and late fractions, respectively.\n",
    "![3D coplot of LC X MS data](3D%20coplot.png)"
   ]
  },
  {
   "cell_type": "markdown",
   "metadata": {},
   "source": [
    "A **2D coplot** will require some compression of the MS data, e.g., quantification of each species in individual fractions in this following plot. One advantage of 2D coplot over its 3D counterpart is the ease to correlate species with its elution time as well as to identify co-elution of different species. For example, it is very obvious in this 2D coplot that flp elutes roughly between 19 and 21 minutes, with co-elution of n-1 and n+1 impurities.\n",
    "\n",
    "![2D coplot of LC X MS data](2D%20coplot.png)"
   ]
  },
  {
   "cell_type": "markdown",
   "metadata": {},
   "source": [
    "## Summary"
   ]
  },
  {
   "cell_type": "markdown",
   "metadata": {},
   "source": [
    "Today, we explored the popular tandem technique, LC × MS, and how to visualize its data effectively. I hope I demonstrated that coplots of LC and MS data are powerful tools for unlocking the full potential of LC × MS applications.\n",
    "As we dive into increasingly complex plots, wouldn’t it be great to explore them interactively—zooming in and out on specific regions? Stay tuned, and we’ll cover this in our next article!"
   ]
  }
 ],
 "metadata": {
  "kernelspec": {
   "display_name": "dv4c",
   "language": "python",
   "name": "dv4c"
  },
  "language_info": {
   "codemirror_mode": {
    "name": "ipython",
    "version": 3
   },
   "file_extension": ".py",
   "mimetype": "text/x-python",
   "name": "python",
   "nbconvert_exporter": "python",
   "pygments_lexer": "ipython3",
   "version": "3.9.19"
  }
 },
 "nbformat": 4,
 "nbformat_minor": 4
}
