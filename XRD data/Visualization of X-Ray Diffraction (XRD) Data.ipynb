{
 "cells": [
  {
   "cell_type": "markdown",
   "metadata": {},
   "source": [
    "# Visualization of X-Ray Diffraction (XRD) Data"
   ]
  },
  {
   "cell_type": "markdown",
   "metadata": {},
   "source": [
    "## XRD and XRD Data"
   ]
  },
  {
   "cell_type": "markdown",
   "metadata": {},
   "source": [
    "X-Ray Diffraction (XRD) is a powerful analytical technique used to determine the structure, composition, and physical properties of materials. It works by directing X-rays onto a sample, where the rays interact with the material’s atomic structure, producing a diffraction pattern. This pattern provides critical information about the arrangement of atoms, crystallinity, and phase identification of the material.\n",
    "\n",
    "XRD is widely used in fields like materials science, chemistry, geology, and engineering to analyze crystalline materials, detect impurities, and study lattice parameters and defects. Its non-destructive nature makes it a preferred method for detailed structural analysis."
   ]
  },
  {
   "cell_type": "markdown",
   "metadata": {},
   "source": [
    "XRD data are composed by two columns, one for diffraction angle (2θ) and another for signal intensity, as seen in the following example.\n",
    "\n",
    "| 2θ       | intensity   |\n",
    "|----------|-------------|\n",
    "| 10.1     | 0.001       |\n",
    "| 10.2     | 0.005       |\n",
    "| 10.3     | 0.003       |"
   ]
  },
  {
   "cell_type": "markdown",
   "metadata": {},
   "source": [
    "## Visualization of An Example XRD Data"
   ]
  },
  {
   "cell_type": "markdown",
   "metadata": {},
   "source": [
    "As you probably already guessed, the most straightforward way to visualize XRD data is a **line plot**. Shown in the figure below are two samples, A and B, with their *simulated* XRD data plotted. The peaks in both samples are also labeled with their diffraction angles. These signature peaks will come handy when we examine XRD data of a mixture sample composed by A and B.\n",
    "![example plot of XRD data](XRD%20example%20plot.png)"
   ]
  },
  {
   "cell_type": "markdown",
   "metadata": {},
   "source": [
    "## XRD Data of Mixture Samples"
   ]
  },
  {
   "cell_type": "markdown",
   "metadata": {},
   "source": [
    "Let’s take it up a notch and dive into XRD data for mixture samples—like the one shown below. By comparing this plot with the data for samples A and B, it’s evident that this is a mixture of the two. The giveaway lies in the signature peak patterns unique to each sample. As highlighted, this mixture was prepared (*in silico*, of course) with a composition of 60% sample A and 40% sample B.\n",
    "![example plot of mixture sample](XRD%20mixture%20sample.png)"
   ]
  },
  {
   "cell_type": "markdown",
   "metadata": {},
   "source": [
    "## Fitting XRD Data of Mixture Samples"
   ]
  },
  {
   "cell_type": "markdown",
   "metadata": {},
   "source": [
    "When the composition of a mixture sample is unknown, we can estimate it using the XRD data of the mixture along with data from the individual components. Below is an example of the estimated composition for samples A and B in the same mixture data shown earlier. The estimated percentages for samples A and B were impressively accurate, falling within ±2.3% of the actual values—definitely an encouraging result!\n",
    "![fitted plot of mixture sample](XRD%20mixture%20fitting.png)"
   ]
  },
  {
   "cell_type": "markdown",
   "metadata": {},
   "source": [
    "## Summary"
   ]
  },
  {
   "cell_type": "markdown",
   "metadata": {},
   "source": [
    "In this article, we explored X-ray diffraction (XRD), a powerful technique widely used in material science, chemistry, and engineering. XRD data for different materials contain unique signature peaks, making it a valuable tool for material identification. Using a simple example, we also demonstrated how the composition of a mixture can be accurately reconstructed from XRD data with high confidence."
   ]
  }
 ],
 "metadata": {
  "kernelspec": {
   "display_name": "dv4c",
   "language": "python",
   "name": "dv4c"
  },
  "language_info": {
   "codemirror_mode": {
    "name": "ipython",
    "version": 3
   },
   "file_extension": ".py",
   "mimetype": "text/x-python",
   "name": "python",
   "nbconvert_exporter": "python",
   "pygments_lexer": "ipython3",
   "version": "3.9.19"
  }
 },
 "nbformat": 4,
 "nbformat_minor": 4
}
