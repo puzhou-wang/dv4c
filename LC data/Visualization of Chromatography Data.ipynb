{
 "cells": [
  {
   "cell_type": "markdown",
   "metadata": {},
   "source": [
    "# Visualization of Chromatography Data"
   ]
  },
  {
   "cell_type": "markdown",
   "metadata": {},
   "source": [
    "## Chromatography and Chromatographic Data"
   ]
  },
  {
   "cell_type": "markdown",
   "metadata": {},
   "source": [
    "Chromatography is a laboratory technique used for separating and analyze mixtures of substances. Despite the variety in chromatography techniques, they all work by passing a mixture through the stationary phase where different substances move at different speeds in the mobile phase due to their differing interactions with the stationary phase. Common chromatography techniques include,\n",
    "- gas chromatography (GC)\n",
    "- liquid chromatography (LC)\n",
    "- thin-layer chromatography"
   ]
  },
  {
   "cell_type": "markdown",
   "metadata": {},
   "source": [
    "With shared mechanism, chromatography techniques also share very similar data format. Normally, chromatographic data are composed by two columns, one for time and another for signal. In another word, chromatographic data are essentially time-series data. Shown below is an example LC data, where the signal is UV absorbance at certain wavelength.\n",
    "\n",
    "| time / second   | UV signal / A.U.  |\n",
    "|-----------------|-------------------|\n",
    "| 0.0             | 3                 |\n",
    "| 0.5             | 15                |\n",
    "| 1.0             | 23                |\n",
    "| 1.5             | 17                |\n",
    "| 2.0             | 2                 |\n",
    "| 2.5             | 1                 |"
   ]
  },
  {
   "cell_type": "markdown",
   "metadata": {},
   "source": [
    "### Techniques with Similar Data Format "
   ]
  },
  {
   "cell_type": "markdown",
   "metadata": {},
   "source": [
    "For the rest of the article, we will use LC data as example to walk through common visualizations. But these plots are generally applicable to other techniques with time-series data output, e.g., **capillary electrophoresis**. While reading through this article, can you think of other characterization methods that can benefit from these plots?"
   ]
  },
  {
   "cell_type": "markdown",
   "metadata": {},
   "source": [
    "## Visualization of LC Data for a Single Sample"
   ]
  },
  {
   "cell_type": "markdown",
   "metadata": {},
   "source": [
    "The most straightforward way to visualize LC data for a single sample is a line plot. Shown below is a **line plot** generated with *simulated* LC data."
   ]
  },
  {
   "cell_type": "markdown",
   "metadata": {},
   "source": [
    "![line plot example of LC data for a single sample](line%20plot%20single%20sample.png)"
   ]
  },
  {
   "cell_type": "markdown",
   "metadata": {},
   "source": [
    "In the plot above, the time values are plotted on the x-axis and the UV aborbance on the y-axis. Moreover, annotations can be added to the line plot, e.g., the retention times of the 3 peaks idenfitied in this example LC data."
   ]
  },
  {
   "cell_type": "markdown",
   "metadata": {},
   "source": [
    "## Visualization of LC Data for Multiple Samples"
   ]
  },
  {
   "cell_type": "markdown",
   "metadata": {},
   "source": [
    "In my [previous article](../MS%20deconvoluted%20data/Visualization%20of%20MS%20Deconvoluted%20Data.ipynb), I discussed how Python is extremely powerful in visualizing mass spectrometry data of multiple samples. Here we will see how Python can help to answer commonly asked questions when scientists analyze LC data across multiple samples, especially the ones without easy off-the-shelf solution."
   ]
  },
  {
   "cell_type": "markdown",
   "metadata": {},
   "source": [
    "### case 1: which sample is the purest?"
   ]
  },
  {
   "cell_type": "markdown",
   "metadata": {},
   "source": [
    "In this case, three different batches of the same molecule are analyzed by LC. Most instrumental softwares allow users to generate overlay plots like the one below. However, it is not easy to examine the purity profiles among the samples due to tiny shift in their retention times from run to run."
   ]
  },
  {
   "cell_type": "markdown",
   "metadata": {},
   "source": [
    "![default overlay plot in case 1](default%20overlay%20case1.png)"
   ]
  },
  {
   "cell_type": "markdown",
   "metadata": {},
   "source": [
    "A better overlay plot would be to centered the chromatography data for each sample by its highest peak (i.e., main peak), as shown below. It is now a lot easier to see that the sample 3 has better purity due to reduction in the amount of impurities eluted both earlier and later than the main peak. "
   ]
  },
  {
   "cell_type": "markdown",
   "metadata": {},
   "source": [
    "![centered overlay plot in case 1](centered%20overlay%20case1.png)"
   ]
  },
  {
   "cell_type": "markdown",
   "metadata": {},
   "source": [
    "### case 2: which method gives the best resolution?"
   ]
  },
  {
   "cell_type": "markdown",
   "metadata": {},
   "source": [
    "In the second case, three standard compounds were used to compare the resolution among three different LC methods. The goal is to identify the method that best separate out these standard molecules. Similar to our experience in the previous case, the default overlay plot found in commercial softwares might not be very helpful, even with offsets."
   ]
  },
  {
   "cell_type": "markdown",
   "metadata": {},
   "source": [
    "![default overlay plot in case 2](default%20overlay%20case2.png)"
   ]
  },
  {
   "cell_type": "markdown",
   "metadata": {},
   "source": [
    "Alternatively, if we center the overlay plot around sample 2, it will be very obvious from a quick glance of the following plot that condition 3 provides the best resolution among the three standard compounds."
   ]
  },
  {
   "cell_type": "markdown",
   "metadata": {},
   "source": [
    "![centered overlay plot in case 2](centered%20overlay%20case2.png)"
   ]
  },
  {
   "cell_type": "markdown",
   "metadata": {},
   "source": [
    "## Summary"
   ]
  },
  {
   "cell_type": "markdown",
   "metadata": {},
   "source": [
    "As a quick summary, in this article, we only discussed one simple plot type: line plot. However, the proper application of such simple plot type can help scientists reach data-driven conclusions. More specifically, with two case studies, we demonstrated different centering strategies applicable to the visualization of LC data across multiple samples.\n",
    "\n",
    "With the last three articles, I introduced two major techniques, mass spectrometry and chromatography, together with interesting plots used for their data analysis. What would happen if we use these techniques in tandem? And what kind of plots will be insightful in such applications?\n",
    "\n",
    "Stay tune for more contents in the topic of **Data Visualization for Chemists**!"
   ]
  }
 ],
 "metadata": {
  "kernelspec": {
   "display_name": "dv4c",
   "language": "python",
   "name": "dv4c"
  },
  "language_info": {
   "codemirror_mode": {
    "name": "ipython",
    "version": 3
   },
   "file_extension": ".py",
   "mimetype": "text/x-python",
   "name": "python",
   "nbconvert_exporter": "python",
   "pygments_lexer": "ipython3",
   "version": "3.9.19"
  }
 },
 "nbformat": 4,
 "nbformat_minor": 4
}
