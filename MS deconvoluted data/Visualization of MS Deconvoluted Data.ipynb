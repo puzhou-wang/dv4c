{
 "cells": [
  {
   "cell_type": "markdown",
   "metadata": {},
   "source": [
    "# Visualization of Mass Spectrometry (MS) Deconvoluted Data"
   ]
  },
  {
   "cell_type": "markdown",
   "metadata": {},
   "source": [
    "## MS, Convoluted Data, and Deconvoluted Data"
   ]
  },
  {
   "cell_type": "markdown",
   "metadata": {},
   "source": [
    "Mass spectrometry (MS) is an analytical technique used to measure the mass-to-charge ratio (m/z) of different species in a sample. As the definition infers, raw MS data, or convoluted MS data, are commonly composed by two columns, one for m/z value and another for detector signal (e.g., ion count), shown in the following table as an example.\n",
    "\n",
    "| m/z      | count    |\n",
    "|----------|----------|\n",
    "| 400      | 1        |\n",
    "| 400.1    | 3        |\n",
    "| 400.2    | 5        |"
   ]
  },
  {
   "cell_type": "markdown",
   "metadata": {},
   "source": [
    "Many softwares can then perform a process called deconvolution to convert m/z values to mass values. More details about deconvolution process is beyond the scope of this short paper, and relevant education material can be found online. The deconvoluted MS data are also composed by two columns, one for mass value and another for signal, as shown below.\n",
    "\n",
    "| mass     | count    |\n",
    "|----------|----------|\n",
    "| 4000     | 10       |\n",
    "| 4001     | 15       |\n",
    "| 4002     | 23       |"
   ]
  },
  {
   "cell_type": "markdown",
   "metadata": {},
   "source": [
    "## Visualization of MS Deconvoluted Data for a Single Sample"
   ]
  },
  {
   "cell_type": "markdown",
   "metadata": {},
   "source": [
    "The most straightforward way to visualize deconvoluted data for a single sample is a line plot. Shown below is a **line plot** generated with *simulated* deconvoluted data of a DNA molecule that is 50-nucleotide long.  "
   ]
  },
  {
   "cell_type": "markdown",
   "metadata": {},
   "source": [
    "![line plot example of MS data for a single sample](line%20plot%20single%20sample.png)"
   ]
  },
  {
   "cell_type": "markdown",
   "metadata": {},
   "source": [
    "In the plot above, the mass values are plotted on the x-axis and the count values on the y-axis. Moreover, identities are also assigned to the different peaks observed in the data with color codes, including the desired product (full-length product, flp) and the impurities that are one nucleotide shorter than flp."
   ]
  },
  {
   "cell_type": "markdown",
   "metadata": {},
   "source": [
    "## Visualization of MS Deconvoluted Data for Multiple Samples"
   ]
  },
  {
   "cell_type": "markdown",
   "metadata": {},
   "source": [
    "The power of data visualization with Python (or any other programming language) will only start to show off when we start to examine more complex applications. One of such applications is the visualization of deconvoluted data for *multiple samples*."
   ]
  },
  {
   "cell_type": "markdown",
   "metadata": {},
   "source": [
    "The **3D waterfall plot** below is an example where 16 DNA samples from 2 conditions (A and B) are plotted together. The deconvoluted data for each sample is plotted as a single line, with samples grouped by conditions. The color codes are used to designate both the peaks representing desired products (i.e., flp) and the truncations based on the identity of the nucleotide. As our brains are well tuned to spot patterns, it is clear by a quick glance at the waterfall plot that condition B generates less truncation than condition A. Condition B may be better synthesis and/or more careful storage of the DNA molecules."
   ]
  },
  {
   "cell_type": "markdown",
   "metadata": {},
   "source": [
    "![waterfall plot example of MS data for multiple samples](waterfall%20plot%20example.png)"
   ]
  },
  {
   "cell_type": "markdown",
   "metadata": {},
   "source": [
    "Other than waterfall plot, **stacked plot** is another type of plots commonly used for the visualization of multiple samples. Using the same set of *simulated* samples, we can zoom into the deconvoluted data for the 8 samples from condition B."
   ]
  },
  {
   "cell_type": "markdown",
   "metadata": {},
   "source": [
    "![stacked plot example of MS data for multiple samples](stacked%20plot%20example.png)"
   ]
  },
  {
   "cell_type": "markdown",
   "metadata": {},
   "source": [
    "In the stacked plot above, a 20X zoom is applied to the signals of each sample so that the truncation peaks can be properly hightlighted. The x-axis is also changed into relative mass values from the calculated molecule weight of the desired DNA product (i.e., full-length product, flp), which is sometimes helpful to quickly identify the truncation peaks."
   ]
  },
  {
   "cell_type": "markdown",
   "metadata": {},
   "source": [
    "## Summary"
   ]
  },
  {
   "cell_type": "markdown",
   "metadata": {},
   "source": [
    "As a quick summary, three types of plots are discussed in this short paper,\n",
    "* line plot, in the example of visualizing deconvoluted MS data for a single sample;\n",
    "* 3D waterfall plot, in the example of visualizing deconvoluted MS data for multiple samples from different conditions;\n",
    "* stacked plot, also in the example of visualizing deconvoluted MS data for multiple samples.\n",
    "\n",
    "Stay tune for more contents in the topic of **Data Visualization for Chemists**!"
   ]
  }
 ],
 "metadata": {
  "kernelspec": {
   "display_name": "dv4c",
   "language": "python",
   "name": "dv4c"
  },
  "language_info": {
   "codemirror_mode": {
    "name": "ipython",
    "version": 3
   },
   "file_extension": ".py",
   "mimetype": "text/x-python",
   "name": "python",
   "nbconvert_exporter": "python",
   "pygments_lexer": "ipython3",
   "version": "3.9.19"
  }
 },
 "nbformat": 4,
 "nbformat_minor": 4
}
