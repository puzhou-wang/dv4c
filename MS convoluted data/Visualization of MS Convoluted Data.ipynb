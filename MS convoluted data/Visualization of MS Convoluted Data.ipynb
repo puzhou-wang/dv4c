{
 "cells": [
  {
   "cell_type": "markdown",
   "metadata": {},
   "source": [
    "# Visualization of Mass Spectrometry (MS) Convoluted Data"
   ]
  },
  {
   "cell_type": "markdown",
   "metadata": {},
   "source": [
    "## Convoluted vs. Deconvoluted Data"
   ]
  },
  {
   "cell_type": "markdown",
   "metadata": {},
   "source": [
    "In the last article, [Visualization of MS Deconvoluted Data](../MS%20deconvoluted%20data/Visualization%20of%20MS%20Deconvoluted%20Data.ipynb), we discussed a few common ways to visualize the deconvoluted MS data. As a quick recap for the differences between deconvoluted and convoluted data, the deconvoluted data basically describe detection signal per mass, while the convoluted describe detection signal per **mass-to-charge ratio (m/z)**. (see the example below).\n",
    "\n",
    "| m/z      | count    |\n",
    "|----------|----------|\n",
    "| 400      | 1        |\n",
    "| 400.1    | 3        |\n",
    "| 400.2    | 5        |"
   ]
  },
  {
   "cell_type": "markdown",
   "metadata": {},
   "source": [
    "## Visualization of MS Convoluted Data"
   ]
  },
  {
   "cell_type": "markdown",
   "metadata": {},
   "source": [
    "A naive **line plot** with *simulated* convoluted data of a DNA molecule that is 50-nucleotide long can provide some very useful information about the MS assay with proper annotations as shown below. In this plot, each observed m/z peak for the 50-nt DNA is labeled with its charge state. For example, it can be calculated that the rightmost peak matches with the m/z value for the DNA molecule with nine negative charges and thus bears the annotation of M-9H."
   ]
  },
  {
   "cell_type": "markdown",
   "metadata": {},
   "source": [
    "![line plot example of MS convoluted data](line%20plot%20example.png)"
   ]
  },
  {
   "cell_type": "markdown",
   "metadata": {},
   "source": [
    "Sometimes, scientists care more about the distribution of charge states, which can be readily visualized in a bar plot. In the following example, we basically replot the above convoluted data. Instead of using m/z value as the x-axis, we use the charge state derived from each m/z peak. From this bar plot, it is easier to notice that the most enriched charge state in this sample is M-20H."
   ]
  },
  {
   "cell_type": "markdown",
   "metadata": {},
   "source": [
    "![bar plot example of MS convoluted data](bar%20plot%20single%20sample.png)"
   ]
  },
  {
   "cell_type": "markdown",
   "metadata": {},
   "source": [
    "## Visualization of MS Convoluted Data for Multiple Samples"
   ]
  },
  {
   "cell_type": "markdown",
   "metadata": {},
   "source": [
    "The bar plot format also allows clearer comparison of charge state distribution across *multiple samples*. In the figure below, the distributions of charge states in 46-nt and 50-nt DNA samples are depicted as purple and yellow bars, respectively. With this coplot of both distributions, it is obvious that the shorter DNA molecule bears few negative charges than the longer one in general."
   ]
  },
  {
   "cell_type": "markdown",
   "metadata": {},
   "source": [
    "![bar plot example of MS convoluted data for multiple samples](bar%20plot%20multi%20samples.png)"
   ]
  },
  {
   "cell_type": "markdown",
   "metadata": {},
   "source": [
    "## Summary"
   ]
  },
  {
   "cell_type": "markdown",
   "metadata": {},
   "source": [
    "As a quick summary, two types of plots are discussed in this short paper,\n",
    "* line plot with annotation, in the example of visualizing convoluted MS data for a single sample;\n",
    "* bar plot, in the example of visualizing convoluted MS data for both a single sample and comparison across multiple samples.\n",
    "\n",
    "In the next week's **Data Visualization for Chemists**, we will start to look into another data type commonly collected in the oligonucleotide field: liquid chromatography! Stay tuned!"
   ]
  }
 ],
 "metadata": {
  "kernelspec": {
   "display_name": "dv4c",
   "language": "python",
   "name": "dv4c"
  },
  "language_info": {
   "codemirror_mode": {
    "name": "ipython",
    "version": 3
   },
   "file_extension": ".py",
   "mimetype": "text/x-python",
   "name": "python",
   "nbconvert_exporter": "python",
   "pygments_lexer": "ipython3",
   "version": "3.9.19"
  }
 },
 "nbformat": 4,
 "nbformat_minor": 4
}
